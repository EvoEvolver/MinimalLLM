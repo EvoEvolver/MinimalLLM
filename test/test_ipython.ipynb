{
 "cells": [
  {
   "cell_type": "code",
   "id": "initial_id",
   "metadata": {
    "collapsed": true,
    "ExecuteTime": {
     "end_time": "2024-06-09T15:46:53.032746Z",
     "start_time": "2024-06-09T15:46:49.262960Z"
    }
   },
   "source": [
    "from mllm.utils import parallel_map\n",
    "import time\n",
    "\n",
    "def wait_for_1_second(x):\n",
    "    time.sleep(1)\n",
    "    return x\n",
    "\n",
    "for i, res in parallel_map(wait_for_1_second, [1, 2, 3], n_workers=1, title=\"test\"):\n",
    "    print(res)"
   ],
   "outputs": [
    {
     "data": {
      "text/plain": [
       "test:   0%|          | 0/3 [00:00<?, ?it/s]"
      ],
      "application/vnd.jupyter.widget-view+json": {
       "version_major": 2,
       "version_minor": 0,
       "model_id": "9756b2daf9f540b19e65c5287c17df5f"
      }
     },
     "metadata": {},
     "output_type": "display_data"
    },
    {
     "name": "stdout",
     "output_type": "stream",
     "text": [
      "1\n",
      "2\n",
      "3\n"
     ]
    }
   ],
   "execution_count": 1
  },
  {
   "metadata": {
    "ExecuteTime": {
     "end_time": "2024-06-09T15:46:53.045933Z",
     "start_time": "2024-06-09T15:46:53.038198Z"
    }
   },
   "cell_type": "code",
   "source": [
    "from mllm.debug.display import show_json_table\n",
    "data = [\n",
    "        {\n",
    "            \"Name\": \"John\",\n",
    "            \"Age\": 30,\n",
    "            \"City\": \"New York\"\n",
    "        },\n",
    "        {\n",
    "            \"Name\": \"Peter\",\n",
    "            \"Age\": 45,\n",
    "            \"City\": \"Boston\"\n",
    "        }\n",
    "    ]\n",
    "show_json_table(data)"
   ],
   "id": "662c9a94dd2b99b6",
   "outputs": [
    {
     "data": {
      "text/plain": [
       "<IPython.core.display.HTML object>"
      ],
      "text/html": [
       "\n",
       "<!DOCTYPE html>\n",
       "<html>\n",
       "<head>\n",
       "    <title>Table</title>\n",
       "    <style>\n",
       "        table {\n",
       "            border-collapse: collapse;\n",
       "            width: 100%;\n",
       "        }\n",
       "\n",
       "        th, td {\n",
       "            border: 1px solid #dddddd;\n",
       "            text-align: left;\n",
       "            padding: 8px;\n",
       "        }\n",
       "\n",
       "        tr:nth-child(even) {\n",
       "            background-color: #f2f2f2;\n",
       "        }\n",
       "    </style>\n",
       "</head>\n",
       "<body>\n",
       "    <table border=\"1\"><thead><tr><th>Name</th><th>Age</th><th>City</th></tr></thead><tbody><tr><td>John</td><td>30</td><td>New York</td></tr><tr><td>Peter</td><td>45</td><td>Boston</td></tr></tbody></table>\n",
       "</body> \n",
       "</html>\n"
      ]
     },
     "metadata": {},
     "output_type": "display_data"
    }
   ],
   "execution_count": 2
  },
  {
   "metadata": {
    "ExecuteTime": {
     "end_time": "2024-06-09T15:46:53.198359Z",
     "start_time": "2024-06-09T15:46:53.047962Z"
    }
   },
   "cell_type": "code",
   "source": [
    "from mllm.debug.display import display_config\n",
    "\n",
    "display_config['show_in_notebook'] = False\n",
    "show_json_table(data)"
   ],
   "id": "c6b5564789fcb230",
   "outputs": [],
   "execution_count": 3
  }
 ],
 "metadata": {
  "kernelspec": {
   "display_name": "Python 3",
   "language": "python",
   "name": "python3"
  },
  "language_info": {
   "codemirror_mode": {
    "name": "ipython",
    "version": 2
   },
   "file_extension": ".py",
   "mimetype": "text/x-python",
   "name": "python",
   "nbconvert_exporter": "python",
   "pygments_lexer": "ipython2",
   "version": "2.7.6"
  }
 },
 "nbformat": 4,
 "nbformat_minor": 5
}
